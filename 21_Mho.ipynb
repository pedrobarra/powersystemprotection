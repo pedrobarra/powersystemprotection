{
 "cells": [
  {
   "cell_type": "code",
   "execution_count": null,
   "metadata": {},
   "outputs": [
    {
     "data": {
      "application/vnd.jupyter.widget-view+json": {
       "model_id": "e3bd792052e14d02ba6769a52b6b1557",
       "version_major": 2,
       "version_minor": 0
      },
      "text/plain": [
       "interactive(children=(Checkbox(value=True, description='Ativar Zona 1'), Checkbox(value=True, description='Ati…"
      ]
     },
     "metadata": {},
     "output_type": "display_data"
    }
   ],
   "source": [
    "import numpy as np\n",
    "import matplotlib.pyplot as plt\n",
    "from ipywidgets import interact, FloatSlider, Checkbox, Layout\n",
    "\n",
    "# Função para plotar as zonas Mho\n",
    "def plot_mho(z1_enabled, z2_enabled, z3_enabled,\n",
    "             reach1, reach2, reach3,\n",
    "             angle_deg):\n",
    "    \n",
    "    fig, ax = plt.subplots(figsize=(8, 8))\n",
    "    ax.set_title(\"Características Mho – Zonas de Proteção\", fontsize=16)\n",
    "    \n",
    "    # Ajustes visuais\n",
    "    ax.set_xlabel(\"Resistência (R) [Ω]\")\n",
    "    ax.set_ylabel(\"Reatância (X) [Ω]\")\n",
    "    ax.grid(True, which='both', linestyle='--', linewidth=0.5)\n",
    "    ax.axhline(0, color='gray', lw=1)\n",
    "    ax.axvline(0, color='gray', lw=1)\n",
    "    ax.set_aspect('equal')\n",
    "    \n",
    "    colors = ['royalblue', 'orange', 'green']\n",
    "    labels = ['Zona 1', 'Zona 2', 'Zona 3']\n",
    "    reaches = [reach1, reach2, reach3]\n",
    "    enabled = [z1_enabled, z2_enabled, z3_enabled]\n",
    "    \n",
    "    # Ângulo do máximo torque\n",
    "    angle_rad = np.deg2rad(angle_deg)\n",
    "    unit_vector = np.array([np.cos(angle_rad), np.sin(angle_rad)])\n",
    "    \n",
    "    for i in range(3):\n",
    "        if enabled[i]:\n",
    "            zset = reaches[i]\n",
    "            center = 0.5 * zset * unit_vector\n",
    "            radius = 0.5 * zset\n",
    "            \n",
    "            # Coordenadas do círculo\n",
    "            theta = np.linspace(0, 2 * np.pi, 500)\n",
    "            x = center[0] + radius * np.cos(theta)\n",
    "            y = center[1] + radius * np.sin(theta)\n",
    "            \n",
    "            ax.plot(x, y, label=labels[i], color=colors[i], lw=2)\n",
    "            ax.plot(center[0], center[1], 'o', color=colors[i], markersize=6)\n",
    "            ax.text(center[0], center[1], f'{labels[i]}', fontsize=10,\n",
    "                    ha='center', va='bottom', color=colors[i])\n",
    "    \n",
    "    # Vetor de máximo torque (referência angular)\n",
    "    ax.quiver(0, 0, unit_vector[0], unit_vector[1], scale=3, angles='xy', scale_units='xy', color='black', label='Ângulo θ')\n",
    "    \n",
    "    ax.legend(loc='upper right')\n",
    "    ax.set_xlim(-10, 110)\n",
    "    ax.set_ylim(-60, 60)\n",
    "    plt.show()\n",
    "\n",
    "# Widget interativo\n",
    "interact(\n",
    "    plot_mho,\n",
    "    z1_enabled=Checkbox(value=True, description=\"Ativar Zona 1\"),\n",
    "    z2_enabled=Checkbox(value=True, description=\"Ativar Zona 2\"),\n",
    "    z3_enabled=Checkbox(value=False, description=\"Ativar Zona 3\"),\n",
    "    reach1=FloatSlider(value=20, min=1, max=100, step=1, description='Alcance Z1 [Ω]', layout=Layout(width='70%')),\n",
    "    reach2=FloatSlider(value=40, min=1, max=100, step=1, description='Alcance Z2 [Ω]', layout=Layout(width='70%')),\n",
    "    reach3=FloatSlider(value=60, min=1, max=100, step=1, description='Alcance Z3 [Ω]', layout=Layout(width='70%')),\n",
    "    angle_deg=FloatSlider(value=75, min=0, max=90, step=1, description='Ângulo θ [°]', layout=Layout(width='70%'))\n",
    ");\n"
   ]
  }
 ],
 "metadata": {
  "kernelspec": {
   "display_name": "Python 3",
   "language": "python",
   "name": "python3"
  },
  "language_info": {
   "codemirror_mode": {
    "name": "ipython",
    "version": 3
   },
   "file_extension": ".py",
   "mimetype": "text/x-python",
   "name": "python",
   "nbconvert_exporter": "python",
   "pygments_lexer": "ipython3",
   "version": "3.10.5"
  }
 },
 "nbformat": 4,
 "nbformat_minor": 2
}
