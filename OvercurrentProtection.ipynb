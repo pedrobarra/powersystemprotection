{
 "cells": [
  {
   "cell_type": "markdown",
   "metadata": {
    "vscode": {
     "languageId": "latex"
    }
   },
   "source": [
    "Interactive visualization of standard overcurrent protection curves || Visualização iterativa das curvas padronizadas de proteção de sobrecorrente\n",
    "\n",
    "Creator: Prof. Pedro Henrique Aquino Barra (pedrobarra@ufu.br)\n",
    "\n",
    "Version: 1.0.1"
   ]
  },
  {
   "cell_type": "code",
   "execution_count": 1,
   "metadata": {},
   "outputs": [
    {
     "data": {
      "application/vnd.jupyter.widget-view+json": {
       "model_id": "17a6d800ab5d4d09883119c92b94ff54",
       "version_major": 2,
       "version_minor": 0
      },
      "text/plain": [
       "HBox(children=(VBox(children=(Dropdown(description='Standard:', layout=Layout(width='300px'), options=('Both',…"
      ]
     },
     "metadata": {},
     "output_type": "display_data"
    },
    {
     "data": {
      "application/vnd.jupyter.widget-view+json": {
       "model_id": "ade8f1d08854436cb86c55b3bbdba775",
       "version_major": 2,
       "version_minor": 0
      },
      "text/plain": [
       "Output()"
      ]
     },
     "metadata": {},
     "output_type": "display_data"
    }
   ],
   "source": [
    "import numpy as np\n",
    "import matplotlib.pyplot as plt\n",
    "from ipywidgets import (interact, Dropdown, FloatSlider, IntSlider,\n",
    "                        FloatText, IntText, HBox, VBox, jslink, \n",
    "                        interactive_output)\n",
    "\n",
    "# Curve calculation functions\n",
    "def ansi_curve(curve_type, time_multiplier, pickup_current):\n",
    "    \"\"\"Calculate ANSI overcurrent protection curve parameters\"\"\"\n",
    "    parameters = {\n",
    "        \"I\": (0.0086, 0.0185, 0.02),     # Standard Inverse\n",
    "        \"MI\": (2.855, 0.0712, 2.0),      # Moderately Inverse\n",
    "        \"EI\": (6.407, 0.025, 2.0)        # Extremely Inverse\n",
    "    }\n",
    "    A, B, p = parameters[curve_type]\n",
    "    current = np.logspace(np.log10(pickup_current*1.01), \n",
    "                         np.log10(pickup_current*20), \n",
    "                         1000)\n",
    "    trip_time = time_multiplier * (A / ((current/pickup_current)**p - 1) + B)\n",
    "    return current, trip_time\n",
    "\n",
    "def iec_curve(curve_type, time_multiplier, pickup_current):\n",
    "    \"\"\"Calculate IEC overcurrent protection curve parameters\"\"\"\n",
    "    parameters = {\n",
    "        \"NI\": (0.14, 0.02),              # Normal Inverse\n",
    "        \"MI\": (13.5, 1),                 # Very Inverse\n",
    "        \"EI\": (80, 2),                   # Extremely Inverse\n",
    "        \"LON6\": (80, 1)                  # Long Time Inverse\n",
    "    }\n",
    "    k, alpha = parameters[curve_type]\n",
    "    current = np.logspace(np.log10(pickup_current*1.01),\n",
    "                         np.log10(pickup_current*20),\n",
    "                         1000)\n",
    "    trip_time = (k * time_multiplier) / ((current/pickup_current)**alpha - 1)\n",
    "    return current, trip_time\n",
    "\n",
    "def plot_curves(standard='Both', time_multiplier=1.0, pickup_current=100):\n",
    "    \"\"\"Generate interactive plot of overcurrent curves\"\"\"\n",
    "    plt.figure(figsize=(12, 7))\n",
    "    \n",
    "    # Plot ANSI curves if selected\n",
    "    if standard in ['ANSI', 'Both']:\n",
    "        for curve in [\"I\", \"MI\", \"EI\"]:\n",
    "            current, trip_time = ansi_curve(curve, time_multiplier, pickup_current)\n",
    "            plt.loglog(current, trip_time, '-', linewidth=2, label=f\"ANSI {curve}\")\n",
    "    \n",
    "    # Plot IEC curves if selected\n",
    "    if standard in ['IEC', 'Both']:\n",
    "        for curve in [\"NI\", \"MI\", \"EI\", \"LON6\"]:\n",
    "            current, trip_time = iec_curve(curve, time_multiplier, pickup_current)\n",
    "            plt.loglog(current, trip_time, '--', linewidth=2, label=f\"IEC {curve}\")\n",
    "    \n",
    "    # Plot configuration\n",
    "    plt.xlabel(\"Secondary Current (A)\", fontsize=12)\n",
    "    plt.ylabel(\"Trip Time (s)\", fontsize=12)\n",
    "    plt.title(f\"Overcurrent Curves (TM={time_multiplier}, Ip={pickup_current}A)\", fontsize=14)\n",
    "    plt.grid(True, which=\"both\", linestyle='--', alpha=0.7)\n",
    "    plt.legend(loc='upper right', frameon=False)\n",
    "    plt.xlim(1, 1000)\n",
    "    plt.ylim(0.01, 1000)\n",
    "    plt.show()\n",
    "\n",
    "# Create interactive widgets\n",
    "standard_widget = Dropdown(\n",
    "    options=['Both', 'ANSI', 'IEC'],\n",
    "    value='Both',\n",
    "    description='Standard:',\n",
    "    layout={'width': '300px'}\n",
    ")\n",
    "\n",
    "# Time Multiplier widgets\n",
    "tm_slider = FloatSlider(value=0.5, min=0.1, max=2.0, step=0.01, description='TM:')\n",
    "tm_text = FloatText(value=0.5, description='TM:', layout={'width': '150px'})\n",
    "jslink((tm_slider, 'value'), (tm_text, 'value'))\n",
    "\n",
    "# Pickup Current widgets\n",
    "ip_slider = IntSlider(value=10, min=10, max=200, step=1, description='Ip (A):')\n",
    "ip_text = IntText(value=10, description='Ip (A):', layout={'width': '150px'})\n",
    "jslink((ip_slider, 'value'), (ip_text, 'value'))\n",
    "\n",
    "# Create widget layout\n",
    "ui = HBox([\n",
    "    VBox([standard_widget]),\n",
    "    VBox([\n",
    "        HBox([tm_slider, tm_text]),\n",
    "        HBox([ip_slider, ip_text])\n",
    "    ])\n",
    "])\n",
    "\n",
    "# Connect widgets to plot function\n",
    "out = interactive_output(\n",
    "    plot_curves,\n",
    "    {'standard': standard_widget, \n",
    "     'time_multiplier': tm_slider, \n",
    "     'pickup_current': ip_slider}\n",
    ")\n",
    "\n",
    "# Display the interface\n",
    "display(ui, out)"
   ]
  }
 ],
 "metadata": {
  "kernelspec": {
   "display_name": "Python 3",
   "language": "python",
   "name": "python3"
  },
  "language_info": {
   "codemirror_mode": {
    "name": "ipython",
    "version": 3
   },
   "file_extension": ".py",
   "mimetype": "text/x-python",
   "name": "python",
   "nbconvert_exporter": "python",
   "pygments_lexer": "ipython3",
   "version": "3.10.5"
  }
 },
 "nbformat": 4,
 "nbformat_minor": 2
}
